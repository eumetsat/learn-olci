{
 "cells": [
  {
   "cell_type": "markdown",
   "metadata": {
    "Collapsed": "false",
    "editable": true,
    "slideshow": {
     "slide_type": ""
    },
    "tags": []
   },
   "source": [
    "<img src='https://gitlab.eumetsat.int/eumetlab/oceans/ocean-training/tools/frameworks/-/raw/main/img/Standard_banner.png' align='right' width='100%'/>"
   ]
  },
  {
   "cell_type": "markdown",
   "metadata": {},
   "source": [
    "<font color=\"#138D75\">**Copernicus Marine Training Service**</font> <br>\n",
    "**Copyright:** 2024 European Union <br>\n",
    "**License:** MIT <br>\n",
    "**Authors:** Ben Loveday (EUMETSAT/Innoflair UG), Hayley Evers-King (EUMETSAT), Ana Ruescas (Brockmann Consult GmbH / University of Valencia), Juan Ignacio-Gossn (EUMETSAT)"
   ]
  },
  {
   "cell_type": "markdown",
   "metadata": {},
   "source": [
    "<html>\n",
    "   <div style=\"float:left\"><p>&emsp;</p></div>\n",
    "   <div style=\"float:left\"><a href=\"https://gitlab.eumetsat.int/eumetlab/oceans/ocean-training/sensors/learn-olci\"><img src=\"https://img.shields.io/badge/open-EUMETLAB-E67E22.svg\"></a></div>\n",
    "   <div style=\"float:left\"><p>&emsp;</p></div>\n",
    "   <div style=\"float:left\"><a href=\"https://user.eumetsat.int/data/themes/marine\"><img src=\"https://img.shields.io/badge/open-USER PORTAL-154360.svg\"></a></div>\n",
    "   <div style=\"float:left\"><p>&emsp;</p></div>\n",
    "   <div style=\"float:left\"><a href=\"https://mybinder.org/v2/git/https%3A%2F%2Fgitlab.eumetsat.int%2Feumetlab%2Foceans%2Focean-training%2Fsensors%2Flearn-olci/HEAD?labpath=Index.ipynb\"><img src=\"https://mybinder.org/badge_logo.svg\"></a></div>\n",
    "   <div style=\"float:left\"><p>&emsp;</p></div>\n",
    "   <div style=\"float:left\"><a href=\"https://jupyterhub.prod.wekeo2.eu/hub/user-redirect/lab/tree/public/wekeo4oceans/learn-olci/Index.ipynb\"><img src=\"https://img.shields.io/badge/launch-WEKEO-1a4696.svg\"></a></div>\n",
    "   <div style=\"float:left\"><p>&emsp;</p></div>\n",
    "   <div style=\"float:left\"><a href=\"https://code.insula.destine.eu/hub/\"><img src=\"https://img.shields.io/badge/launch-DestinE-f43fd3.svg\"></a></div></div>\n",
    "</html>"
   ]
  },
  {
   "cell_type": "markdown",
   "metadata": {
    "editable": true,
    "slideshow": {
     "slide_type": ""
    },
    "tags": []
   },
   "source": [
    "<div class=\"alert alert-block alert-success\">\n",
    "<h3>Learn OLCI</h3></div>\n",
    "<hr>"
   ]
  },
  {
   "cell_type": "markdown",
   "metadata": {
    "Collapsed": "false"
   },
   "source": [
    "# Index for the learn-OLCI module\n",
    "\n",
    "### About OLCI\n",
    "\n",
    "The Ocean and Land Colour Instrument (OLCI) provides spectral information on the colour of the oceans. This data can be used to monitor global ocean primary production by phytoplankton, the basis of nearly all life in our seas.\n",
    "\n",
    "Ocean colour data is also vital to understand climate change — ocean colour is one of the Essential Climate Variables listed by the World Meteorological Organization to detect biological activity in the ocean’s surface layer. Phytoplankton take up carbon dioxide (CO$_{2}$) during photosynthesis, making them important carbon sinks. Ocean colour data can be used to monitor the annual global uptake of CO$_{2}$ by phytoplankton on a global scale. Using this data we can study the wider Earth system, for instance the El Niño/La Niña phenomena and how these impacts the ocean ecosystem.\n",
    "\n",
    "Beyond climate, ocean colour data is also useful to look at more sporadic events. OLCI data can be used track sediment transport, monitor coastal water quality and track and forecast harmful algal blooms that are a danger to humans, marine/freshwater life and aquaculture.\n",
    "\n",
    "The global picture of ocean ecosystems provided by ocean colour data can guide sustainable marine resource management and support reporting obligations of the European Union's legislation within Marine Strategy Framework Directive and Water Framework Directive, the goal of which is to achieve or maintain Good Environmental Status of the seas by the year 2020\n",
    "\n",
    "Further information on the sensor and its data can be found in the <a href=\"https://user.eumetsat.int/data/satellites/sentinel-3\" target=\"_blank\">Sentinel-3 section of our User Portal</a>.\n",
    "<hr>\n",
    "\n",
    "### Module outline\n",
    "\n",
    "The **learn-olci** module consists of a collection of Python-based Jupyter notebooks designed to demonstrate the capability of the Ocean and Land Colour Instrument (OLCI), carried by the Sentinel-3 satellites, and to help users begin to work with its data at level-1B and level-2. The module will introduce you to:\n",
    "\n",
    "* the specifics of the OLCI sensor\n",
    "* the ways in which you can access OLCI data\n",
    "* the parameters that OLCI provides at level-1b and level-2\n",
    "* approaches to working with OLCI data in common use cases\n",
    "\n",
    "<hr>\n",
    "\n",
    "### How to use this material\n",
    "\n",
    "This module is based around a series of <a href=\"https://jupyter.org/\" target=\"_blank\">Jupyter Notebooks</a>. These support high-level interactive learning by allowing us to combine code, text descriptions and data visualisations. If you have not worked with Jupyter Notebooks before, please look at the\n",
    "\n",
    "<a href=\"./working-with-python/Intro_to_Python_and_Jupyter.ipynb\" target=\"_blank\">Introduction to Python and Project Jupyter</a> module to get a short introduction to their usage and benefits. Refer to this module's **README** for further information on how to set up Jupyter.\n",
    "\n",
    "This module is split in to two parts, designed for:\n",
    "* <font color=\"#229954\">**introductory users**</font>, who have basic knowledge of Python and are new to using OLCI data\n",
    "* <font color=\"#DC7633\">**advanced users**</font>, who may be looking into more advanced use cases for the data.\n",
    "\n",
    "There is a suggested order in which to access the notebooks, and pre-requisites where applicable are listed at the top of each notebook. However, not all notebooks may be relevant for every user, so we have tried to make each one as self contained as possible.\n",
    "\n",
    "<hr>\n",
    "\n",
    "### Learning outcomes\n",
    "\n",
    "From this module, you can expect to learn:\n",
    "* How to access OLCI data from both the EUMETSAT data services, and WEkEO\n",
    "* The general file structure of OLCI products, and how to read them using Python\n",
    "* How OLCI captures the spectral reflectance of the ocean, and how this is used to derive geophysical products\n",
    "* How to visualise OLCI data products, applying appropriate flags\n",
    "* The limitations and uncertainties associated with OLCI products\n",
    "* How to apply a SNAP based processor to OLCI data, using Python.\n",
    "\n",
    "<hr>"
   ]
  },
  {
   "cell_type": "markdown",
   "metadata": {},
   "source": [
    "<div class=\"alert alert-info\" role=\"alert\">\n",
    "\n",
    "## <a id='TOC-TOP'></a>Contents\n",
    "\n",
    "</div>\n",
    "    \n",
    "This modules offers notebooks for introductory and advanced uses of OLCI data.\n",
    "\n",
    "<h3>OLCI <font color=\"#229954\"> introductory</font> notebooks.</h3>\n",
    "\n",
    " These resources will introduce you to the fundamentals of OLCI<br>\n",
    " *  <a href=\"./1_OLCI_introductory/1_1a_OLCI_data_access_Data_Store.ipynb\" target=\"_blank\">1.1a Accessing OLCI data from the EUMETSAT Data Store</a>\n",
    " *  <a href=\"./1_OLCI_introductory/1_1b_OLCI_data_access_HDA.ipynb\" target=\"_blank\">1.1b Accessing OLCI data using the WEKEO HDA adaptor</a>\n",
    " *  <a href=\"./1_OLCI_introductory/1_2_OLCI_file_structure.ipynb\" target=\"_blank\">1.2 Understanding OLCI product structure</a>\n",
    " *  <a href=\"./1_OLCI_introductory/1_3_OLCI_coverage.ipynb\" target=\"_blank\">1.3 Determining OLCI product coverage</a>\n",
    " *  <a href=\"./1_OLCI_introductory/1_4_OLCI_bands_imagery.ipynb\" target=\"_blank\">1.4 OLCI bands and imagery</a>\n",
    " *  <a href=\"./1_OLCI_introductory/1_5_OLCI_radiance_reflectance_spectra.ipynb\" target=\"_blank\">1.5 OLCI radiance and reflectance spectra</a>\n",
    " *  <a href=\"./1_OLCI_introductory/1_6_OLCI_CHL_comparison.ipynb\" target=\"_blank\">1.6 Comparing OLCI chlorophyll products</a>\n",
    " *  <a href=\"./1_OLCI_introductory/1_7_OLCI_light_environment.ipynb\" target=\"_blank\">1.7 Assessing the light environment</a>\n",
    " * more coming soon...\n",
    "\n",
    "<h3>OLCI <font color=\"#DC7633\"> advanced</font> notebooks</h3>\n",
    " \n",
    " These resources build on the fundamentals, covering more advanced uses of OLCI.<br>\n",
    " *  <a href=\"./2_OLCI_advanced/2_1_OLCI_advanced_data_access_eumdac.ipynb\" target=\"_blank\">2.1 Advanced OLCI data access with the EUMDAC client</a>\n",
    " *  <a href=\"./2_OLCI_advanced/2_2a_acquire_OLCI_time_series.ipynb\" target=\"_blank\">2.2a Acquiring a regional OLCI times series</a>\n",
    " *  <a href=\"./2_OLCI_advanced/2_2b_OLCI_ope_rep_time_series.ipynb\" target=\"_blank\">2.2b Acquiring OLCI timeseries from operational and reprocessed collections</a>\n",
    " *  <a href=\"./2_OLCI_advanced/2_3a_OLCI_SNAP_batch_processing_subset_reproj_flag_CHL.ipynb\" target=\"_blank\">2.3a Using SNAP to batch process OLCI: subsetting, flagging and reprojection</a> \n",
    " *  <a href=\"./2_OLCI_advanced/2_3b_OLCI_SNAP_batch_processing_C2RCC.ipynb\" target=\"_blank\">2.3b Using SNAP to batch process OLCI: Idepix cloud flagging and C2RCC atmospheric correction</a>\n",
    " *  <a href=\"./2_OLCI_advanced/2_4_OLCI_matchup_validation.ipynb\" target=\"_blank\">2.4 Performing OLCI match-up validation analysis with the ThoMaS toolkit.</a>\n",
    " *  <a href=\"./2_OLCI_advanced/2_5_multisensor_matchup_validation.ipynb\" target=\"_blank\">2.5 Performing multisensor match-up validation analysis with the ThoMaS toolkit</a>\n",
    " *  <a href=\"./2_OLCI_advanced/Coming_soon.md\" target=\"_blank\">2.6 The OLCI IOP processor</a> (coming shortly!)\n",
    " * more coming soon..."
   ]
  },
  {
   "cell_type": "markdown",
   "metadata": {},
   "source": [
    "<hr>\n",
    "\n",
    "### Get involved:\n",
    "Do you need more information on a specific use of the data, or want to see a demonstration of a specific workflow? Do you have an idea about a new idea to include in this repository? Please reach out to us via our **<a href=mailto:ops@eumetsat.int target=\"_blank\">helpdesk</a>** to discuss collaborations and expanding this repository."
   ]
  },
  {
   "cell_type": "markdown",
   "metadata": {},
   "source": [
    "<hr>\n",
    "<a href=\"https://gitlab.eumetsat.int/eumetlab/ocean\" target=\"_blank\">View on GitLab</a> | <a href=\"https://training.eumetsat.int/\" target=\"_blank\">EUMETSAT Training</a> | <a href=mailto:ops@eumetsat.int target=\"_blank\">Contact helpdesk for support </a> | <a href=mailto:training@eumetsat.int target=\"_blank\">Contact our training team to collaborate on and reuse this material</a></span></p>"
   ]
  }
 ],
 "metadata": {
  "author": "Ben Loveday, Hayley Evers-King",
  "content_type": "Software & code",
  "data_access": [
   "Data Store",
   "WEkEO"
  ],
  "deployment": {
   "eumetsat": {
    "binder": {
     "link": "https://mybinder.org/v2/git/https%3A%2F%2Fgitlab.eumetsat.int%2Feumetlab%2Foceans%2Focean-training%2Fsensors%2Flearn-olci/HEAD?labpath=Index.ipynb",
     "service_contact": "ops@eumetsat.int",
     "service_provider": "EUMETSAT"
    },
    "git": {
     "link": "https://gitlab.eumetsat.int/eumetlab/oceans/ocean-training/sensors/learn-olci/-/blob/main/Index.ipynb",
     "service_contact": "ops@eumetsat.int",
     "service_provider": "EUMETSAT"
    }
   },
   "wekeo": {
    "git": {
     "link": "https://github.com/wekeo/learn-olci/blob/main/Index.ipynb",
     "service_contact": "ops@eumetsat.int",
     "service_provider": "EUMETSAT"
    },
    "url": {
     "link": "https://jupyterhub.prod.wekeo2.eu/hub/user-redirect/lab/tree/public/wekeo4oceans/learn-olci/Index.ipynb",
     "service_contact": "ops@eumetsat.int",
     "service_provider": "EUMETSAT"
    }
   }
  },
  "description": "This repository provides guidance on working with Sentinel-3 OLCI for ocean colour",
  "image": "./img/thumbs/Index_thumb.png",
  "kernelspec": {
   "display_name": "Python 3 (ipykernel)",
   "language": "python",
   "name": "python3"
  },
  "language_info": {
   "codemirror_mode": {
    "name": "ipython",
    "version": 3
   },
   "file_extension": ".py",
   "mimetype": "text/x-python",
   "name": "python",
   "nbconvert_exporter": "python",
   "pygments_lexer": "ipython3",
   "version": "3.12.2"
  },
  "license": "MIT",
  "metadata_schema_version": "2.0.0",
  "originator": "EUMETSAT",
  "tags": {
   "data_provider": "EUMETSAT",
   "orbit": "LEO",
   "satellite": "Sentinel-3",
   "sensor": "OLCI (Sentinel-3)",
   "service": "Ocean colour",
   "subtheme": [
    "Ocean biogeochemistry",
    "Water quality",
    "Ocean dynamics"
   ],
   "theme": "Marine",
   "variable": [
    "Top-of-atmosphere radiance",
    "Water leaving reflectance",
    "Chlorophyll concentration",
    "Photosynthetically active radiation",
    "Diffuse attentuation coefficient",
    "Coloured dissolved organic matter absorption coefficient",
    "Total suspended matter concentration",
    "Ocean colour"
   ]
  },
  "title": "Welcome to the EUMETSAT learn-olci GitLab repository",
  "version": "2.0.0",
  "version_date": "2024-07-01"
 },
 "nbformat": 4,
 "nbformat_minor": 4
}
